{
 "cells": [
  {
   "cell_type": "code",
   "execution_count": 1,
   "metadata": {},
   "outputs": [],
   "source": [
    "from pandas_datareader import data as pdr\n",
    "import datetime\n",
    "import numpy as np\n",
    "import matplotlib.pyplot as plt"
   ]
  },
  {
   "cell_type": "code",
   "execution_count": 2,
   "metadata": {},
   "outputs": [],
   "source": [
    "start = (datetime.datetime.today() - datetime.timedelta(days=366)).strftime('%m/%d/%Y')\n",
    "end = datetime.datetime.today().strftime('%m/%d/%Y')\n",
    "    \n",
    "df = pdr.get_data_yahoo('GOOG', start=start, end=end)"
   ]
  },
  {
   "cell_type": "code",
   "execution_count": 19,
   "metadata": {},
   "outputs": [],
   "source": [
    "def StockVol(histoPrice):\n",
    "    closing_prices = histoPrice['Adj Close'].values\n",
    "    returns = np.log(closing_prices[1:]/closing_prices[:-1])\n",
    "    vol = np.sqrt(252)*np.sqrt(np.var(returns))\n",
    "    return vol"
   ]
  },
  {
   "cell_type": "markdown",
   "metadata": {},
   "source": [
    "The StockVol function simply calculates the historical volatility of a stock."
   ]
  },
  {
   "cell_type": "code",
   "execution_count": 4,
   "metadata": {
    "scrolled": false
   },
   "outputs": [],
   "source": [
    "def StockPath(n, sigma, S0, T, num_p, r):\n",
    "    paths = np.zeros((n, num_p+1))\n",
    "    paths[:, 0] = S0\n",
    "    dt = T/num_p\n",
    "    \n",
    "    for i in range(n):\n",
    "        for j in range(1, num_p+1):\n",
    "            rand = np.random.standard_normal()\n",
    "            paths[i, j] = paths[i, j-1]*np.exp((r-0.5*sigma**2)*dt+sigma*np.sqrt(dt)*rand)\n",
    "    \n",
    "    return paths"
   ]
  },
  {
   "cell_type": "markdown",
   "metadata": {},
   "source": [
    "The StockPath function generates n paths which we will use to simulate potential payoff, allowing us to price options."
   ]
  },
  {
   "cell_type": "code",
   "execution_count": 5,
   "metadata": {},
   "outputs": [],
   "source": [
    "def EurOptPrice(n, paths, sigma, T, num_p, r, K):\n",
    "    payoff = np.exp(-r*T)*np.maximum(K-paths[:, num_p], 0)\n",
    "    price = np.average(payoff)\n",
    "    var = np.var(payoff)\n",
    "    return [payoff, price, var]"
   ]
  },
  {
   "cell_type": "markdown",
   "metadata": {},
   "source": [
    "The EurOptPrice function averages each paths inflation adjusted terminal put payout to price a European put."
   ]
  },
  {
   "cell_type": "code",
   "execution_count": 99,
   "metadata": {
    "scrolled": true
   },
   "outputs": [],
   "source": [
    "def AmeOptPrice(n, paths, sigma, T, num_p, r, K):\n",
    "    V_hat = np.zeros((n, num_p))\n",
    "    h = np.maximum(K-paths, 0)\n",
    "    V_hat[:, num_p-1] = h[:, num_p-1]\n",
    "\n",
    "    for i in range(num_p-1, 0, -1):\n",
    "        fit = np.polyfit(paths[:, i], V_hat[:, i]*np.exp(-r*T/num_p), 5)\n",
    "        fitted = np.polyval(fit, paths[:, i])\n",
    "        V_hat[:, i-1] = np.where(h[:, i] > fitted, h[:, i], V_hat[:, i]*np.exp(-r*T/num_p))\n",
    "\n",
    "    price = np.mean(V_hat[:, 1]*np.exp(-r*T/num_p))\n",
    "    var = np.var(V_hat[:, 1]*np.exp(-r*T/num_p))\n",
    "    return [V_hat, price, var]"
   ]
  },
  {
   "cell_type": "markdown",
   "metadata": {},
   "source": [
    "The AmeOptPrice function uses polynomial regression to evaluate the optimal time to excerice an American put. If the regression fitted value is greater than the payoff at terminal we will exercise at the time, allowing us to achieve optimal value and thus properly pricing an American put."
   ]
  },
  {
   "cell_type": "code",
   "execution_count": 179,
   "metadata": {
    "scrolled": true
   },
   "outputs": [],
   "source": [
    "def ContVariate(n, paths, sigma, T, num_p, r, K):\n",
    "    V_hat = AmeOptPrice(n, paths, sigma, T, num_p, r, K)[0]\n",
    "    X = EurOptPrice(n, paths, sigma, T, num_p, r, K)[0]\n",
    "    \n",
    "    dt = T/num_p\n",
    "    df = np.exp(-r*dt)\n",
    "    \n",
    "    Y = V_hat[:, 1]*df\n",
    "    \n",
    "    EX = np.average(X)\n",
    "    \n",
    "    X_mean = np.average(X)\n",
    "    Y_mean = np.average(Y)\n",
    "    b = np.sum((X-X_mean)*(Y-Y_mean))/np.sum((X-X_mean)**2)\n",
    "    estimator = (1/n)*np.sum(Y-b*(X-EX))\n",
    "    var = np.var(Y-b*(X-EX))\n",
    "    return [estimator, var]"
   ]
  },
  {
   "cell_type": "markdown",
   "metadata": {},
   "source": [
    "The ContVariate function uses the simulated known quantity of the European put payoff of each path to reduce variance of the American put price. The simulated European payoff minus the expectation of payoff for each path is an unbiased estimation. Using the correlation of this unbiased estimator and the value we are trying to predict we can calculate the optimal coefficient b. This optimal coefficient b best reduces variance, providing a more relaible estimate for option pricing. "
   ]
  },
  {
   "cell_type": "code",
   "execution_count": 180,
   "metadata": {},
   "outputs": [
    {
     "name": "stdout",
     "output_type": "stream",
     "text": [
      "Google stock has historical volatility 0.3593221344992161\n",
      "The price and variance, respectively, of the European put option with strike 1440 is: [397.4381360116953, 83591.35917968172]\n",
      "The price and variance, respectively, of the American put option with strike 1440 is: [409.91172061527647, 50058.91812604502]\n",
      "The price and variance, respectively of the American put option with strike 1440 using control variates as a technique for variance reduction is: [409.91172061527647, 22785.85369909315]\n"
     ]
    }
   ],
   "source": [
    "vol = StockVol(df)\n",
    "print(\"Google stock has historical volatility \" + str(vol))\n",
    "S0 = df['Adj Close'][0]\n",
    "T = 1\n",
    "num_p = 252\n",
    "r = 0.0068\n",
    "n = 1000\n",
    "\n",
    "paths = StockPath(n, vol, S0, T, num_p, r)\n",
    "\n",
    "K = 1440\n",
    "priceEuro = EurOptPrice(n, paths, vol, T, num_p, r, K)[1:]\n",
    "print(\"The price and variance, respectively, of the European put option with strike \" + str(K) + \" is: \" + str(priceEuro))\n",
    "\n",
    "priceAmer = AmeOptPrice(n, paths, vol, T, num_p, r, K)[1:]\n",
    "print(\"The price and variance, respectively, of the American put option with strike \" + str(K) + \" is: \" + str(priceAmer))\n",
    "\n",
    "price_cont_var = ContVariate(n, paths, vol, T, num_p, r, K)\n",
    "print(\"The price and variance, respectively of the American put option with strike \" + str(K) + \" using control variates as \"\n",
    "      \"a technique for variance reduction is: \" + str(price_cont_var))"
   ]
  },
  {
   "cell_type": "markdown",
   "metadata": {},
   "source": [
    "This is the best way to price an American option because it both evaluates the best potential return by utilizing polynomial regression to optimize exercise time and implements a control variate to reduce variance, allowing us to make an accurate and reliable estimate. "
   ]
  }
 ],
 "metadata": {
  "kernelspec": {
   "display_name": "Python 3",
   "language": "python",
   "name": "python3"
  },
  "language_info": {
   "codemirror_mode": {
    "name": "ipython",
    "version": 3
   },
   "file_extension": ".py",
   "mimetype": "text/x-python",
   "name": "python",
   "nbconvert_exporter": "python",
   "pygments_lexer": "ipython3",
   "version": "3.7.1"
  }
 },
 "nbformat": 4,
 "nbformat_minor": 2
}
